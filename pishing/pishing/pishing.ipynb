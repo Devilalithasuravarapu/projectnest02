{
  "cells": [
    {
      "cell_type": "code",
      "execution_count": 1,
      "metadata": {
        "id": "oFrw5Z-OdNcO"
      },
      "outputs": [],
      "source": [
        "# Importing necessary libraries\n",
        "import pickle\n",
        "import pandas as pd\n",
        "import seaborn as sns\n",
        "import matplotlib.pyplot as plt\n",
        "from sklearn.preprocessing import StandardScaler\n",
        "from sklearn.preprocessing import LabelEncoder\n",
        "from sklearn.metrics import classification_report\n",
        "from sklearn.linear_model import LogisticRegression\n",
        "from sklearn.model_selection import train_test_split\n",
        "from sklearn.metrics import accuracy_score, confusion_matrix"
      ]
    },
    {
      "cell_type": "code",
      "execution_count": 2,
      "metadata": {
        "id": "_-5MhQ47dvuK"
      },
      "outputs": [],
      "source": [
        "# Provide the file path to your dataset\n",
        "file_path = \"dataset_link_phishing.csv\"  # Replace \"path/to/your/dataset.csv\" with the actual file path\n",
        "\n",
        "# Load the dataset\n",
        "df = pd.read_csv(file_path, header=None)\n"
      ]
    },
    {
      "cell_type": "code",
      "execution_count": 3,
      "metadata": {
        "id": "iiTouj-Owqcy"
      },
      "outputs": [],
      "source": [
        "dtype_dict = { 'total_of.': 'int', 'url_length': 'int', 'total_of@': 'int', 'total_of-': 'int', 'total_of%': 'int', 'total_of_www': 'int', 'total_of:': 'int','total_of&':'int','total_of/':'int','total_of*':'int','status':'object'}  # Replace column_name1, column_name2, dtype1, dtype2 with your column names and data types\n",
        "df = pd.read_csv('dataset_link_phishing.csv', dtype=dtype_dict)"
      ]
    },
    {
      "cell_type": "code",
      "execution_count": 4,
      "metadata": {
        "colab": {
          "base_uri": "https://localhost:8080/"
        },
        "id": "dERMfM9coyzb",
        "outputId": "93ead53c-725f-4005-8700-b0eca9bddfbe"
      },
      "outputs": [
        {
          "name": "stdout",
          "output_type": "stream",
          "text": [
            "Index(['Unnamed: 0', 'url', 'url_length', 'hostname_length', 'ip', 'total_of.',\n",
            "       'total_of-', 'total_of@', 'total_of?', 'total_of&', 'total_of=',\n",
            "       'total_of_', 'total_of~', 'total_of%', 'total_of/', 'total_of*',\n",
            "       'total_of:', 'total_of,', 'total_of;', 'total_of$', 'total_of_www',\n",
            "       'total_of_com', 'total_of_http_in_path', 'https_token',\n",
            "       'ratio_digits_url', 'ratio_digits_host', 'punycode', 'port',\n",
            "       'tld_in_path', 'tld_in_subdomain', 'abnormal_subdomain',\n",
            "       'nb_subdomains', 'prefix_suffix', 'random_domain', 'shortening_service',\n",
            "       'path_extension', 'nb_redirection', 'nb_external_redirection',\n",
            "       'length_words_raw', 'char_repeat', 'shortest_words_raw',\n",
            "       'shortest_word_host', 'shortest_word_path', 'longest_words_raw',\n",
            "       'longest_word_host', 'longest_word_path', 'avg_words_raw',\n",
            "       'avg_word_host', 'avg_word_path', 'phish_hints', 'domain_in_brand',\n",
            "       'brand_in_subdomain', 'brand_in_path', 'suspecious_tld',\n",
            "       'statistical_report', 'nb_hyperlinks', 'ratio_intHyperlinks',\n",
            "       'ratio_extHyperlinks', 'ratio_nullHyperlinks', 'nb_extCSS',\n",
            "       'ratio_intRedirection', 'ratio_extRedirection', 'ratio_intErrors',\n",
            "       'ratio_extErrors', 'login_form', 'external_favicon', 'links_in_tags',\n",
            "       'submit_email', 'ratio_intMedia', 'ratio_extMedia', 'sfh', 'iframe',\n",
            "       'popup_window', 'safe_anchor', 'onmouseover', 'right_clic',\n",
            "       'empty_title', 'domain_in_title', 'domain_with_copyright',\n",
            "       'whois_registered_domain', 'domain_registration_length', 'domain_age',\n",
            "       'web_traffic', 'dns_record', 'google_index', 'page_rank', 'status'],\n",
            "      dtype='object')\n"
          ]
        }
      ],
      "source": [
        "# Suppose your DataFrame is named df\n",
        "# Check the current column names to identify any leading or trailing whitespaces\n",
        "print(df.columns)\n",
        "\n",
        "# Fix column names by removing leading and trailing whitespaces}, inplace=True)\n",
        "df\n",
        "df.rename(columns=lambda x: x.strip(), inplace=True)"
      ]
    },
    {
      "cell_type": "code",
      "execution_count": 5,
      "metadata": {
        "colab": {
          "base_uri": "https://localhost:8080/"
        },
        "id": "tmvFPqdmn5-g",
        "outputId": "2f68acc1-9ff3-449d-aad6-b2160ca19645"
      },
      "outputs": [
        {
          "name": "stdout",
          "output_type": "stream",
          "text": [
            "Shape of the dataset: (6517, 12)\n"
          ]
        }
      ],
      "source": [
        "# Suppose you have a DataFrame called df and you want to delete columns named 'unwanted_column1' and 'unwanted_column2'\n",
        "unwanted_columns = [ 'url',  'hostname_length', 'ip',\n",
        "         'total_of?', 'total_of=',\n",
        "       'total_of_', 'total_of~',\n",
        "        'total_of,', 'total_of;', 'total_of$',\n",
        "       'total_of_com', 'total_of_http_in_path', 'https_token',\n",
        "       'ratio_digits_url', 'ratio_digits_host', 'punycode', 'port',\n",
        "       'tld_in_path', 'tld_in_subdomain', 'abnormal_subdomain',\n",
        "       'nb_subdomains', 'prefix_suffix', 'random_domain', 'shortening_service',\n",
        "       'path_extension', 'nb_redirection', 'nb_external_redirection',\n",
        "       'length_words_raw', 'char_repeat', 'shortest_words_raw',\n",
        "       'shortest_word_host', 'shortest_word_path', 'longest_words_raw',\n",
        "       'longest_word_host', 'longest_word_path', 'avg_words_raw',\n",
        "       'avg_word_host', 'avg_word_path', 'phish_hints', 'domain_in_brand',\n",
        "       'brand_in_subdomain', 'brand_in_path', 'suspecious_tld',\n",
        "       'statistical_report', 'nb_hyperlinks', 'ratio_intHyperlinks',\n",
        "       'ratio_extHyperlinks', 'ratio_nullHyperlinks', 'nb_extCSS',\n",
        "       'ratio_intRedirection', 'ratio_extRedirection', 'ratio_intErrors',\n",
        "       'ratio_extErrors', 'login_form', 'external_favicon', 'links_in_tags',\n",
        "       'submit_email', 'ratio_intMedia', 'ratio_extMedia', 'sfh', 'iframe',\n",
        "       'popup_window', 'safe_anchor', 'onmouseover', 'right_clic',\n",
        "       'empty_title', 'domain_in_title', 'domain_with_copyright',\n",
        "       'whois_registered_domain', 'domain_registration_length', 'domain_age',\n",
        "       'web_traffic', 'dns_record', 'google_index', 'page_rank',  ]\n",
        "df.drop(columns=unwanted_columns, inplace=True)\n",
        "print(\"Shape of the dataset:\", df.shape)\n",
        "\n"
      ]
    },
    {
      "cell_type": "code",
      "execution_count": 6,
      "metadata": {
        "colab": {
          "base_uri": "https://localhost:8080/"
        },
        "id": "8qgF4_VvsM0F",
        "outputId": "7933270a-1366-4926-e32a-18718a34789e"
      },
      "outputs": [
        {
          "name": "stdout",
          "output_type": "stream",
          "text": [
            "Index(['Unnamed: 0', 'url_length', 'total_of.', 'total_of-', 'total_of@',\n",
            "       'total_of&', 'total_of%', 'total_of/', 'total_of*', 'total_of:',\n",
            "       'total_of_www', 'status'],\n",
            "      dtype='object')\n"
          ]
        }
      ],
      "source": [
        "print(df.columns)\n"
      ]
    },
    {
      "cell_type": "code",
      "execution_count": 7,
      "metadata": {
        "id": "g5434dSuLbyN"
      },
      "outputs": [],
      "source": [
        "# Preprocessing (if necessary)\n",
        "# For the output column (target variable), if it contains categorical values, encode them using LabelEncoder\n",
        "le = LabelEncoder()\n",
        "df['status'] = le.fit_transform(df['status'])"
      ]
    },
    {
      "cell_type": "code",
      "execution_count": 8,
      "metadata": {
        "colab": {
          "base_uri": "https://localhost:8080/"
        },
        "id": "0BB7T5ILukDG",
        "outputId": "37769e21-4218-4b56-e083-487f4f89ff1e"
      },
      "outputs": [
        {
          "name": "stdout",
          "output_type": "stream",
          "text": [
            "\n",
            "Data Type\n",
            "Unnamed: 0      int64\n",
            "url_length      int64\n",
            "total_of.       int64\n",
            "total_of-       int64\n",
            "total_of@       int64\n",
            "total_of&       int64\n",
            "total_of%       int64\n",
            "total_of/       int64\n",
            "total_of*       int64\n",
            "total_of:       int64\n",
            "total_of_www    int64\n",
            "status          int64\n",
            "dtype: object\n"
          ]
        }
      ],
      "source": [
        "#To show the data type of the dataset\n",
        "print(\"\\nData Type\")\n",
        "print(df.dtypes)"
      ]
    },
    {
      "cell_type": "code",
      "execution_count": 9,
      "metadata": {
        "id": "dcTmZP_0dvq7"
      },
      "outputs": [],
      "source": [
        "# Describing the dataset\n",
        "description = df.describe()"
      ]
    },
    {
      "cell_type": "code",
      "execution_count": 10,
      "metadata": {
        "colab": {
          "base_uri": "https://localhost:8080/"
        },
        "id": "2ZrqIai0dvhr",
        "outputId": "a0f74fbc-3bfc-4592-9790-16f54aa22239"
      },
      "outputs": [
        {
          "name": "stdout",
          "output_type": "stream",
          "text": [
            "Number of rows:  6517\n",
            "Number of columns:  12\n"
          ]
        }
      ],
      "source": [
        "num_rows, num_columns = df.shape\n",
        "print(\"Number of rows: \" , num_rows)\n",
        "print(\"Number of columns: \" , num_columns)"
      ]
    },
    {
      "cell_type": "code",
      "execution_count": 11,
      "metadata": {
        "colab": {
          "base_uri": "https://localhost:8080/"
        },
        "id": "dtd7hqL1dveL",
        "outputId": "e7ff802b-bf5d-4c17-a428-e1c221a9081b"
      },
      "outputs": [
        {
          "name": "stdout",
          "output_type": "stream",
          "text": [
            "Dataset: \n",
            "      Unnamed: 0  url_length  total_of.  total_of-  total_of@  total_of&  \\\n",
            "0              0          46          3          0          0          0   \n",
            "1              1         128         10          0          0          0   \n",
            "2              2          52          3          0          0          0   \n",
            "3              3          21          2          0          0          0   \n",
            "4              4          28          2          0          0          0   \n",
            "...          ...         ...        ...        ...        ...        ...   \n",
            "6512        6512          33          2          1          0          0   \n",
            "6513        6513          33          1          3          0          0   \n",
            "6514        6514          37          2          0          0          0   \n",
            "6515        6515          96          3          1          0          0   \n",
            "6516        6516          20          1          1          0          0   \n",
            "\n",
            "      total_of%  total_of/  total_of*  total_of:  total_of_www  status  \n",
            "0             0          3          0          1             1       1  \n",
            "1             0          3          0          1             0       1  \n",
            "2             0          4          0          1             1       1  \n",
            "3             0          3          0          1             1       0  \n",
            "4             0          3          0          1             1       0  \n",
            "...         ...        ...        ...        ...           ...     ...  \n",
            "6512          0          3          0          1             0       1  \n",
            "6513          0          2          0          1             0       1  \n",
            "6514          0          3          0          1             0       1  \n",
            "6515          0          7          0          1             0       1  \n",
            "6516          0          2          0          1             0       2  \n",
            "\n",
            "[6517 rows x 12 columns]\n"
          ]
        }
      ],
      "source": [
        "#Display the dataset\n",
        "print(\"Dataset: \")\n",
        "print(df)"
      ]
    },
    {
      "cell_type": "code",
      "execution_count": 12,
      "metadata": {
        "colab": {
          "base_uri": "https://localhost:8080/"
        },
        "id": "iHNvvjvzdvDg",
        "outputId": "b70848bf-e2ae-4f87-b845-bc14640c85e9"
      },
      "outputs": [
        {
          "name": "stdout",
          "output_type": "stream",
          "text": [
            "Unnamed: 0      0\n",
            "url_length      0\n",
            "total_of.       0\n",
            "total_of-       0\n",
            "total_of@       0\n",
            "total_of&       0\n",
            "total_of%       0\n",
            "total_of/       0\n",
            "total_of*       0\n",
            "total_of:       0\n",
            "total_of_www    0\n",
            "status          0\n",
            "dtype: int64\n"
          ]
        }
      ],
      "source": [
        "print(df.isnull().sum())"
      ]
    },
    {
      "cell_type": "code",
      "execution_count": 13,
      "metadata": {
        "colab": {
          "base_uri": "https://localhost:8080/"
        },
        "id": "rrJqOGm3xCej",
        "outputId": "05e19f71-f7ce-4ab7-f0fa-503ac70569de"
      },
      "outputs": [
        {
          "name": "stdout",
          "output_type": "stream",
          "text": [
            "\n",
            "Description of the dataset:\n",
            "        Unnamed: 0   url_length    total_of.    total_of-    total_of@  \\\n",
            "count  6517.000000  6517.000000  6517.000000  6517.000000  6517.000000   \n",
            "mean   3258.000000    60.633574     2.484579     0.987418     0.021175   \n",
            "std    1881.440184    53.961319     1.370886     2.016163     0.156248   \n",
            "min       0.000000    13.000000     1.000000     0.000000     0.000000   \n",
            "25%    1629.000000    33.000000     2.000000     0.000000     0.000000   \n",
            "50%    3258.000000    47.000000     2.000000     0.000000     0.000000   \n",
            "75%    4887.000000    71.000000     3.000000     1.000000     0.000000   \n",
            "max    6516.000000  1386.000000    24.000000    26.000000     4.000000   \n",
            "\n",
            "         total_of&    total_of%    total_of/    total_of*    total_of:  \\\n",
            "count  6517.000000  6517.000000  6517.000000  6517.000000  6517.000000   \n",
            "mean      0.166948     0.112168     4.280804     0.000614     1.028234   \n",
            "std       0.865437     1.027925     1.852865     0.024769     0.242381   \n",
            "min       0.000000     0.000000     2.000000     0.000000     1.000000   \n",
            "25%       0.000000     0.000000     3.000000     0.000000     1.000000   \n",
            "50%       0.000000     0.000000     4.000000     0.000000     1.000000   \n",
            "75%       0.000000     0.000000     5.000000     0.000000     1.000000   \n",
            "max      19.000000    38.000000    27.000000     1.000000     7.000000   \n",
            "\n",
            "       total_of_www       status  \n",
            "count   6517.000000  6517.000000  \n",
            "mean       0.454197     0.500537  \n",
            "std        0.503148     0.500345  \n",
            "min        0.000000     0.000000  \n",
            "25%        0.000000     0.000000  \n",
            "50%        0.000000     1.000000  \n",
            "75%        1.000000     1.000000  \n",
            "max        2.000000     2.000000  \n"
          ]
        }
      ],
      "source": [
        "description = df.describe()\n",
        "print(\"\\nDescription of the dataset:\")\n",
        "print(description)"
      ]
    },
    {
      "cell_type": "code",
      "execution_count": 14,
      "metadata": {
        "colab": {
          "base_uri": "https://localhost:8080/"
        },
        "id": "go861ZdVxCbK",
        "outputId": "81c25a1e-df10-49b3-cd32-95ac359c00a6"
      },
      "outputs": [
        {
          "name": "stdout",
          "output_type": "stream",
          "text": [
            "\n",
            "Head of the dataset:\n",
            "   Unnamed: 0  url_length  total_of.  total_of-  total_of@  total_of&  \\\n",
            "0           0          46          3          0          0          0   \n",
            "1           1         128         10          0          0          0   \n",
            "2           2          52          3          0          0          0   \n",
            "3           3          21          2          0          0          0   \n",
            "4           4          28          2          0          0          0   \n",
            "\n",
            "   total_of%  total_of/  total_of*  total_of:  total_of_www  status  \n",
            "0          0          3          0          1             1       1  \n",
            "1          0          3          0          1             0       1  \n",
            "2          0          4          0          1             1       1  \n",
            "3          0          3          0          1             1       0  \n",
            "4          0          3          0          1             1       0  \n"
          ]
        }
      ],
      "source": [
        "print(\"\\nHead of the dataset:\")\n",
        "print(df.head())"
      ]
    },
    {
      "cell_type": "code",
      "execution_count": 15,
      "metadata": {
        "colab": {
          "base_uri": "https://localhost:8080/"
        },
        "id": "d2gYL1qdxCYb",
        "outputId": "b3923b62-4499-46f4-b0d8-bc55828c1b7d"
      },
      "outputs": [
        {
          "name": "stdout",
          "output_type": "stream",
          "text": [
            "\n",
            "Tail of the dataset:\n",
            "      Unnamed: 0  url_length  total_of.  total_of-  total_of@  total_of&  \\\n",
            "6512        6512          33          2          1          0          0   \n",
            "6513        6513          33          1          3          0          0   \n",
            "6514        6514          37          2          0          0          0   \n",
            "6515        6515          96          3          1          0          0   \n",
            "6516        6516          20          1          1          0          0   \n",
            "\n",
            "      total_of%  total_of/  total_of*  total_of:  total_of_www  status  \n",
            "6512          0          3          0          1             0       1  \n",
            "6513          0          2          0          1             0       1  \n",
            "6514          0          3          0          1             0       1  \n",
            "6515          0          7          0          1             0       1  \n",
            "6516          0          2          0          1             0       2  \n"
          ]
        }
      ],
      "source": [
        "print(\"\\nTail of the dataset:\")\n",
        "print(df.tail())"
      ]
    },
    {
      "cell_type": "code",
      "execution_count": 16,
      "metadata": {
        "colab": {
          "base_uri": "https://localhost:8080/",
          "height": 423
        },
        "id": "XUIZwhrDxCVe",
        "outputId": "b0f2abd7-ced7-47de-9115-0805f158302b"
      },
      "outputs": [
        {
          "data": {
            "application/vnd.google.colaboratory.intrinsic+json": {
              "summary": "{\n  \"name\": \"df\",\n  \"rows\": 6517,\n  \"fields\": [\n    {\n      \"column\": \"Unnamed: 0\",\n      \"properties\": {\n        \"dtype\": \"number\",\n        \"std\": 1881,\n        \"min\": 0,\n        \"max\": 6516,\n        \"num_unique_values\": 6517,\n        \"samples\": [\n          5935,\n          5627,\n          1002\n        ],\n        \"semantic_type\": \"\",\n        \"description\": \"\"\n      }\n    },\n    {\n      \"column\": \"url_length\",\n      \"properties\": {\n        \"dtype\": \"number\",\n        \"std\": 53,\n        \"min\": 13,\n        \"max\": 1386,\n        \"num_unique_values\": 267,\n        \"samples\": [\n          89,\n          95,\n          15\n        ],\n        \"semantic_type\": \"\",\n        \"description\": \"\"\n      }\n    },\n    {\n      \"column\": \"total_of.\",\n      \"properties\": {\n        \"dtype\": \"number\",\n        \"std\": 1,\n        \"min\": 1,\n        \"max\": 24,\n        \"num_unique_values\": 19,\n        \"samples\": [\n          3,\n          1,\n          18\n        ],\n        \"semantic_type\": \"\",\n        \"description\": \"\"\n      }\n    },\n    {\n      \"column\": \"total_of-\",\n      \"properties\": {\n        \"dtype\": \"number\",\n        \"std\": 2,\n        \"min\": 0,\n        \"max\": 26,\n        \"num_unique_values\": 23,\n        \"samples\": [\n          13,\n          6,\n          0\n        ],\n        \"semantic_type\": \"\",\n        \"description\": \"\"\n      }\n    },\n    {\n      \"column\": \"total_of@\",\n      \"properties\": {\n        \"dtype\": \"number\",\n        \"std\": 0,\n        \"min\": 0,\n        \"max\": 4,\n        \"num_unique_values\": 4,\n        \"samples\": [\n          1,\n          4,\n          0\n        ],\n        \"semantic_type\": \"\",\n        \"description\": \"\"\n      }\n    },\n    {\n      \"column\": \"total_of&\",\n      \"properties\": {\n        \"dtype\": \"number\",\n        \"std\": 0,\n        \"min\": 0,\n        \"max\": 19,\n        \"num_unique_values\": 14,\n        \"samples\": [\n          5,\n          4,\n          0\n        ],\n        \"semantic_type\": \"\",\n        \"description\": \"\"\n      }\n    },\n    {\n      \"column\": \"total_of%\",\n      \"properties\": {\n        \"dtype\": \"number\",\n        \"std\": 1,\n        \"min\": 0,\n        \"max\": 38,\n        \"num_unique_values\": 18,\n        \"samples\": [\n          0,\n          6,\n          10\n        ],\n        \"semantic_type\": \"\",\n        \"description\": \"\"\n      }\n    },\n    {\n      \"column\": \"total_of/\",\n      \"properties\": {\n        \"dtype\": \"number\",\n        \"std\": 1,\n        \"min\": 2,\n        \"max\": 27,\n        \"num_unique_values\": 19,\n        \"samples\": [\n          3,\n          6,\n          13\n        ],\n        \"semantic_type\": \"\",\n        \"description\": \"\"\n      }\n    },\n    {\n      \"column\": \"total_of*\",\n      \"properties\": {\n        \"dtype\": \"number\",\n        \"std\": 0,\n        \"min\": 0,\n        \"max\": 1,\n        \"num_unique_values\": 2,\n        \"samples\": [\n          1,\n          0\n        ],\n        \"semantic_type\": \"\",\n        \"description\": \"\"\n      }\n    },\n    {\n      \"column\": \"total_of:\",\n      \"properties\": {\n        \"dtype\": \"number\",\n        \"std\": 0,\n        \"min\": 1,\n        \"max\": 7,\n        \"num_unique_values\": 6,\n        \"samples\": [\n          1,\n          3\n        ],\n        \"semantic_type\": \"\",\n        \"description\": \"\"\n      }\n    },\n    {\n      \"column\": \"total_of_www\",\n      \"properties\": {\n        \"dtype\": \"number\",\n        \"std\": 0,\n        \"min\": 0,\n        \"max\": 2,\n        \"num_unique_values\": 3,\n        \"samples\": [\n          1,\n          0\n        ],\n        \"semantic_type\": \"\",\n        \"description\": \"\"\n      }\n    },\n    {\n      \"column\": \"status\",\n      \"properties\": {\n        \"dtype\": \"number\",\n        \"std\": 0,\n        \"min\": 0,\n        \"max\": 2,\n        \"num_unique_values\": 3,\n        \"samples\": [\n          1,\n          0\n        ],\n        \"semantic_type\": \"\",\n        \"description\": \"\"\n      }\n    }\n  ]\n}",
              "type": "dataframe",
              "variable_name": "df"
            },
            "text/html": [
              "\n",
              "  <div id=\"df-a993d9dc-8e73-47a7-9256-0bafd5c1cc24\" class=\"colab-df-container\">\n",
              "    <div>\n",
              "<style scoped>\n",
              "    .dataframe tbody tr th:only-of-type {\n",
              "        vertical-align: middle;\n",
              "    }\n",
              "\n",
              "    .dataframe tbody tr th {\n",
              "        vertical-align: top;\n",
              "    }\n",
              "\n",
              "    .dataframe thead th {\n",
              "        text-align: right;\n",
              "    }\n",
              "</style>\n",
              "<table border=\"1\" class=\"dataframe\">\n",
              "  <thead>\n",
              "    <tr style=\"text-align: right;\">\n",
              "      <th></th>\n",
              "      <th>Unnamed: 0</th>\n",
              "      <th>url_length</th>\n",
              "      <th>total_of.</th>\n",
              "      <th>total_of-</th>\n",
              "      <th>total_of@</th>\n",
              "      <th>total_of&amp;</th>\n",
              "      <th>total_of%</th>\n",
              "      <th>total_of/</th>\n",
              "      <th>total_of*</th>\n",
              "      <th>total_of:</th>\n",
              "      <th>total_of_www</th>\n",
              "      <th>status</th>\n",
              "    </tr>\n",
              "  </thead>\n",
              "  <tbody>\n",
              "    <tr>\n",
              "      <th>0</th>\n",
              "      <td>0</td>\n",
              "      <td>46</td>\n",
              "      <td>3</td>\n",
              "      <td>0</td>\n",
              "      <td>0</td>\n",
              "      <td>0</td>\n",
              "      <td>0</td>\n",
              "      <td>3</td>\n",
              "      <td>0</td>\n",
              "      <td>1</td>\n",
              "      <td>1</td>\n",
              "      <td>1</td>\n",
              "    </tr>\n",
              "    <tr>\n",
              "      <th>1</th>\n",
              "      <td>1</td>\n",
              "      <td>128</td>\n",
              "      <td>10</td>\n",
              "      <td>0</td>\n",
              "      <td>0</td>\n",
              "      <td>0</td>\n",
              "      <td>0</td>\n",
              "      <td>3</td>\n",
              "      <td>0</td>\n",
              "      <td>1</td>\n",
              "      <td>0</td>\n",
              "      <td>1</td>\n",
              "    </tr>\n",
              "    <tr>\n",
              "      <th>2</th>\n",
              "      <td>2</td>\n",
              "      <td>52</td>\n",
              "      <td>3</td>\n",
              "      <td>0</td>\n",
              "      <td>0</td>\n",
              "      <td>0</td>\n",
              "      <td>0</td>\n",
              "      <td>4</td>\n",
              "      <td>0</td>\n",
              "      <td>1</td>\n",
              "      <td>1</td>\n",
              "      <td>1</td>\n",
              "    </tr>\n",
              "    <tr>\n",
              "      <th>3</th>\n",
              "      <td>3</td>\n",
              "      <td>21</td>\n",
              "      <td>2</td>\n",
              "      <td>0</td>\n",
              "      <td>0</td>\n",
              "      <td>0</td>\n",
              "      <td>0</td>\n",
              "      <td>3</td>\n",
              "      <td>0</td>\n",
              "      <td>1</td>\n",
              "      <td>1</td>\n",
              "      <td>0</td>\n",
              "    </tr>\n",
              "    <tr>\n",
              "      <th>4</th>\n",
              "      <td>4</td>\n",
              "      <td>28</td>\n",
              "      <td>2</td>\n",
              "      <td>0</td>\n",
              "      <td>0</td>\n",
              "      <td>0</td>\n",
              "      <td>0</td>\n",
              "      <td>3</td>\n",
              "      <td>0</td>\n",
              "      <td>1</td>\n",
              "      <td>1</td>\n",
              "      <td>0</td>\n",
              "    </tr>\n",
              "    <tr>\n",
              "      <th>...</th>\n",
              "      <td>...</td>\n",
              "      <td>...</td>\n",
              "      <td>...</td>\n",
              "      <td>...</td>\n",
              "      <td>...</td>\n",
              "      <td>...</td>\n",
              "      <td>...</td>\n",
              "      <td>...</td>\n",
              "      <td>...</td>\n",
              "      <td>...</td>\n",
              "      <td>...</td>\n",
              "      <td>...</td>\n",
              "    </tr>\n",
              "    <tr>\n",
              "      <th>6512</th>\n",
              "      <td>6512</td>\n",
              "      <td>33</td>\n",
              "      <td>2</td>\n",
              "      <td>1</td>\n",
              "      <td>0</td>\n",
              "      <td>0</td>\n",
              "      <td>0</td>\n",
              "      <td>3</td>\n",
              "      <td>0</td>\n",
              "      <td>1</td>\n",
              "      <td>0</td>\n",
              "      <td>1</td>\n",
              "    </tr>\n",
              "    <tr>\n",
              "      <th>6513</th>\n",
              "      <td>6513</td>\n",
              "      <td>33</td>\n",
              "      <td>1</td>\n",
              "      <td>3</td>\n",
              "      <td>0</td>\n",
              "      <td>0</td>\n",
              "      <td>0</td>\n",
              "      <td>2</td>\n",
              "      <td>0</td>\n",
              "      <td>1</td>\n",
              "      <td>0</td>\n",
              "      <td>1</td>\n",
              "    </tr>\n",
              "    <tr>\n",
              "      <th>6514</th>\n",
              "      <td>6514</td>\n",
              "      <td>37</td>\n",
              "      <td>2</td>\n",
              "      <td>0</td>\n",
              "      <td>0</td>\n",
              "      <td>0</td>\n",
              "      <td>0</td>\n",
              "      <td>3</td>\n",
              "      <td>0</td>\n",
              "      <td>1</td>\n",
              "      <td>0</td>\n",
              "      <td>1</td>\n",
              "    </tr>\n",
              "    <tr>\n",
              "      <th>6515</th>\n",
              "      <td>6515</td>\n",
              "      <td>96</td>\n",
              "      <td>3</td>\n",
              "      <td>1</td>\n",
              "      <td>0</td>\n",
              "      <td>0</td>\n",
              "      <td>0</td>\n",
              "      <td>7</td>\n",
              "      <td>0</td>\n",
              "      <td>1</td>\n",
              "      <td>0</td>\n",
              "      <td>1</td>\n",
              "    </tr>\n",
              "    <tr>\n",
              "      <th>6516</th>\n",
              "      <td>6516</td>\n",
              "      <td>20</td>\n",
              "      <td>1</td>\n",
              "      <td>1</td>\n",
              "      <td>0</td>\n",
              "      <td>0</td>\n",
              "      <td>0</td>\n",
              "      <td>2</td>\n",
              "      <td>0</td>\n",
              "      <td>1</td>\n",
              "      <td>0</td>\n",
              "      <td>2</td>\n",
              "    </tr>\n",
              "  </tbody>\n",
              "</table>\n",
              "<p>6517 rows × 12 columns</p>\n",
              "</div>\n",
              "    <div class=\"colab-df-buttons\">\n",
              "\n",
              "  <div class=\"colab-df-container\">\n",
              "    <button class=\"colab-df-convert\" onclick=\"convertToInteractive('df-a993d9dc-8e73-47a7-9256-0bafd5c1cc24')\"\n",
              "            title=\"Convert this dataframe to an interactive table.\"\n",
              "            style=\"display:none;\">\n",
              "\n",
              "  <svg xmlns=\"http://www.w3.org/2000/svg\" height=\"24px\" viewBox=\"0 -960 960 960\">\n",
              "    <path d=\"M120-120v-720h720v720H120Zm60-500h600v-160H180v160Zm220 220h160v-160H400v160Zm0 220h160v-160H400v160ZM180-400h160v-160H180v160Zm440 0h160v-160H620v160ZM180-180h160v-160H180v160Zm440 0h160v-160H620v160Z\"/>\n",
              "  </svg>\n",
              "    </button>\n",
              "\n",
              "  <style>\n",
              "    .colab-df-container {\n",
              "      display:flex;\n",
              "      gap: 12px;\n",
              "    }\n",
              "\n",
              "    .colab-df-convert {\n",
              "      background-color: #E8F0FE;\n",
              "      border: none;\n",
              "      border-radius: 50%;\n",
              "      cursor: pointer;\n",
              "      display: none;\n",
              "      fill: #1967D2;\n",
              "      height: 32px;\n",
              "      padding: 0 0 0 0;\n",
              "      width: 32px;\n",
              "    }\n",
              "\n",
              "    .colab-df-convert:hover {\n",
              "      background-color: #E2EBFA;\n",
              "      box-shadow: 0px 1px 2px rgba(60, 64, 67, 0.3), 0px 1px 3px 1px rgba(60, 64, 67, 0.15);\n",
              "      fill: #174EA6;\n",
              "    }\n",
              "\n",
              "    .colab-df-buttons div {\n",
              "      margin-bottom: 4px;\n",
              "    }\n",
              "\n",
              "    [theme=dark] .colab-df-convert {\n",
              "      background-color: #3B4455;\n",
              "      fill: #D2E3FC;\n",
              "    }\n",
              "\n",
              "    [theme=dark] .colab-df-convert:hover {\n",
              "      background-color: #434B5C;\n",
              "      box-shadow: 0px 1px 3px 1px rgba(0, 0, 0, 0.15);\n",
              "      filter: drop-shadow(0px 1px 2px rgba(0, 0, 0, 0.3));\n",
              "      fill: #FFFFFF;\n",
              "    }\n",
              "  </style>\n",
              "\n",
              "    <script>\n",
              "      const buttonEl =\n",
              "        document.querySelector('#df-a993d9dc-8e73-47a7-9256-0bafd5c1cc24 button.colab-df-convert');\n",
              "      buttonEl.style.display =\n",
              "        google.colab.kernel.accessAllowed ? 'block' : 'none';\n",
              "\n",
              "      async function convertToInteractive(key) {\n",
              "        const element = document.querySelector('#df-a993d9dc-8e73-47a7-9256-0bafd5c1cc24');\n",
              "        const dataTable =\n",
              "          await google.colab.kernel.invokeFunction('convertToInteractive',\n",
              "                                                    [key], {});\n",
              "        if (!dataTable) return;\n",
              "\n",
              "        const docLinkHtml = 'Like what you see? Visit the ' +\n",
              "          '<a target=\"_blank\" href=https://colab.research.google.com/notebooks/data_table.ipynb>data table notebook</a>'\n",
              "          + ' to learn more about interactive tables.';\n",
              "        element.innerHTML = '';\n",
              "        dataTable['output_type'] = 'display_data';\n",
              "        await google.colab.output.renderOutput(dataTable, element);\n",
              "        const docLink = document.createElement('div');\n",
              "        docLink.innerHTML = docLinkHtml;\n",
              "        element.appendChild(docLink);\n",
              "      }\n",
              "    </script>\n",
              "  </div>\n",
              "\n",
              "\n",
              "<div id=\"df-e717c816-0092-47ec-8bb8-785bcb070ec9\">\n",
              "  <button class=\"colab-df-quickchart\" onclick=\"quickchart('df-e717c816-0092-47ec-8bb8-785bcb070ec9')\"\n",
              "            title=\"Suggest charts\"\n",
              "            style=\"display:none;\">\n",
              "\n",
              "<svg xmlns=\"http://www.w3.org/2000/svg\" height=\"24px\"viewBox=\"0 0 24 24\"\n",
              "     width=\"24px\">\n",
              "    <g>\n",
              "        <path d=\"M19 3H5c-1.1 0-2 .9-2 2v14c0 1.1.9 2 2 2h14c1.1 0 2-.9 2-2V5c0-1.1-.9-2-2-2zM9 17H7v-7h2v7zm4 0h-2V7h2v10zm4 0h-2v-4h2v4z\"/>\n",
              "    </g>\n",
              "</svg>\n",
              "  </button>\n",
              "\n",
              "<style>\n",
              "  .colab-df-quickchart {\n",
              "      --bg-color: #E8F0FE;\n",
              "      --fill-color: #1967D2;\n",
              "      --hover-bg-color: #E2EBFA;\n",
              "      --hover-fill-color: #174EA6;\n",
              "      --disabled-fill-color: #AAA;\n",
              "      --disabled-bg-color: #DDD;\n",
              "  }\n",
              "\n",
              "  [theme=dark] .colab-df-quickchart {\n",
              "      --bg-color: #3B4455;\n",
              "      --fill-color: #D2E3FC;\n",
              "      --hover-bg-color: #434B5C;\n",
              "      --hover-fill-color: #FFFFFF;\n",
              "      --disabled-bg-color: #3B4455;\n",
              "      --disabled-fill-color: #666;\n",
              "  }\n",
              "\n",
              "  .colab-df-quickchart {\n",
              "    background-color: var(--bg-color);\n",
              "    border: none;\n",
              "    border-radius: 50%;\n",
              "    cursor: pointer;\n",
              "    display: none;\n",
              "    fill: var(--fill-color);\n",
              "    height: 32px;\n",
              "    padding: 0;\n",
              "    width: 32px;\n",
              "  }\n",
              "\n",
              "  .colab-df-quickchart:hover {\n",
              "    background-color: var(--hover-bg-color);\n",
              "    box-shadow: 0 1px 2px rgba(60, 64, 67, 0.3), 0 1px 3px 1px rgba(60, 64, 67, 0.15);\n",
              "    fill: var(--button-hover-fill-color);\n",
              "  }\n",
              "\n",
              "  .colab-df-quickchart-complete:disabled,\n",
              "  .colab-df-quickchart-complete:disabled:hover {\n",
              "    background-color: var(--disabled-bg-color);\n",
              "    fill: var(--disabled-fill-color);\n",
              "    box-shadow: none;\n",
              "  }\n",
              "\n",
              "  .colab-df-spinner {\n",
              "    border: 2px solid var(--fill-color);\n",
              "    border-color: transparent;\n",
              "    border-bottom-color: var(--fill-color);\n",
              "    animation:\n",
              "      spin 1s steps(1) infinite;\n",
              "  }\n",
              "\n",
              "  @keyframes spin {\n",
              "    0% {\n",
              "      border-color: transparent;\n",
              "      border-bottom-color: var(--fill-color);\n",
              "      border-left-color: var(--fill-color);\n",
              "    }\n",
              "    20% {\n",
              "      border-color: transparent;\n",
              "      border-left-color: var(--fill-color);\n",
              "      border-top-color: var(--fill-color);\n",
              "    }\n",
              "    30% {\n",
              "      border-color: transparent;\n",
              "      border-left-color: var(--fill-color);\n",
              "      border-top-color: var(--fill-color);\n",
              "      border-right-color: var(--fill-color);\n",
              "    }\n",
              "    40% {\n",
              "      border-color: transparent;\n",
              "      border-right-color: var(--fill-color);\n",
              "      border-top-color: var(--fill-color);\n",
              "    }\n",
              "    60% {\n",
              "      border-color: transparent;\n",
              "      border-right-color: var(--fill-color);\n",
              "    }\n",
              "    80% {\n",
              "      border-color: transparent;\n",
              "      border-right-color: var(--fill-color);\n",
              "      border-bottom-color: var(--fill-color);\n",
              "    }\n",
              "    90% {\n",
              "      border-color: transparent;\n",
              "      border-bottom-color: var(--fill-color);\n",
              "    }\n",
              "  }\n",
              "</style>\n",
              "\n",
              "  <script>\n",
              "    async function quickchart(key) {\n",
              "      const quickchartButtonEl =\n",
              "        document.querySelector('#' + key + ' button');\n",
              "      quickchartButtonEl.disabled = true;  // To prevent multiple clicks.\n",
              "      quickchartButtonEl.classList.add('colab-df-spinner');\n",
              "      try {\n",
              "        const charts = await google.colab.kernel.invokeFunction(\n",
              "            'suggestCharts', [key], {});\n",
              "      } catch (error) {\n",
              "        console.error('Error during call to suggestCharts:', error);\n",
              "      }\n",
              "      quickchartButtonEl.classList.remove('colab-df-spinner');\n",
              "      quickchartButtonEl.classList.add('colab-df-quickchart-complete');\n",
              "    }\n",
              "    (() => {\n",
              "      let quickchartButtonEl =\n",
              "        document.querySelector('#df-e717c816-0092-47ec-8bb8-785bcb070ec9 button');\n",
              "      quickchartButtonEl.style.display =\n",
              "        google.colab.kernel.accessAllowed ? 'block' : 'none';\n",
              "    })();\n",
              "  </script>\n",
              "</div>\n",
              "\n",
              "  <div id=\"id_5c3099d9-ecba-4664-b66d-e0a5d611b550\">\n",
              "    <style>\n",
              "      .colab-df-generate {\n",
              "        background-color: #E8F0FE;\n",
              "        border: none;\n",
              "        border-radius: 50%;\n",
              "        cursor: pointer;\n",
              "        display: none;\n",
              "        fill: #1967D2;\n",
              "        height: 32px;\n",
              "        padding: 0 0 0 0;\n",
              "        width: 32px;\n",
              "      }\n",
              "\n",
              "      .colab-df-generate:hover {\n",
              "        background-color: #E2EBFA;\n",
              "        box-shadow: 0px 1px 2px rgba(60, 64, 67, 0.3), 0px 1px 3px 1px rgba(60, 64, 67, 0.15);\n",
              "        fill: #174EA6;\n",
              "      }\n",
              "\n",
              "      [theme=dark] .colab-df-generate {\n",
              "        background-color: #3B4455;\n",
              "        fill: #D2E3FC;\n",
              "      }\n",
              "\n",
              "      [theme=dark] .colab-df-generate:hover {\n",
              "        background-color: #434B5C;\n",
              "        box-shadow: 0px 1px 3px 1px rgba(0, 0, 0, 0.15);\n",
              "        filter: drop-shadow(0px 1px 2px rgba(0, 0, 0, 0.3));\n",
              "        fill: #FFFFFF;\n",
              "      }\n",
              "    </style>\n",
              "    <button class=\"colab-df-generate\" onclick=\"generateWithVariable('df')\"\n",
              "            title=\"Generate code using this dataframe.\"\n",
              "            style=\"display:none;\">\n",
              "\n",
              "  <svg xmlns=\"http://www.w3.org/2000/svg\" height=\"24px\"viewBox=\"0 0 24 24\"\n",
              "       width=\"24px\">\n",
              "    <path d=\"M7,19H8.4L18.45,9,17,7.55,7,17.6ZM5,21V16.75L18.45,3.32a2,2,0,0,1,2.83,0l1.4,1.43a1.91,1.91,0,0,1,.58,1.4,1.91,1.91,0,0,1-.58,1.4L9.25,21ZM18.45,9,17,7.55Zm-12,3A5.31,5.31,0,0,0,4.9,8.1,5.31,5.31,0,0,0,1,6.5,5.31,5.31,0,0,0,4.9,4.9,5.31,5.31,0,0,0,6.5,1,5.31,5.31,0,0,0,8.1,4.9,5.31,5.31,0,0,0,12,6.5,5.46,5.46,0,0,0,6.5,12Z\"/>\n",
              "  </svg>\n",
              "    </button>\n",
              "    <script>\n",
              "      (() => {\n",
              "      const buttonEl =\n",
              "        document.querySelector('#id_5c3099d9-ecba-4664-b66d-e0a5d611b550 button.colab-df-generate');\n",
              "      buttonEl.style.display =\n",
              "        google.colab.kernel.accessAllowed ? 'block' : 'none';\n",
              "\n",
              "      buttonEl.onclick = () => {\n",
              "        google.colab.notebook.generateWithVariable('df');\n",
              "      }\n",
              "      })();\n",
              "    </script>\n",
              "  </div>\n",
              "\n",
              "    </div>\n",
              "  </div>\n"
            ],
            "text/plain": [
              "      Unnamed: 0  url_length  total_of.  total_of-  total_of@  total_of&  \\\n",
              "0              0          46          3          0          0          0   \n",
              "1              1         128         10          0          0          0   \n",
              "2              2          52          3          0          0          0   \n",
              "3              3          21          2          0          0          0   \n",
              "4              4          28          2          0          0          0   \n",
              "...          ...         ...        ...        ...        ...        ...   \n",
              "6512        6512          33          2          1          0          0   \n",
              "6513        6513          33          1          3          0          0   \n",
              "6514        6514          37          2          0          0          0   \n",
              "6515        6515          96          3          1          0          0   \n",
              "6516        6516          20          1          1          0          0   \n",
              "\n",
              "      total_of%  total_of/  total_of*  total_of:  total_of_www  status  \n",
              "0             0          3          0          1             1       1  \n",
              "1             0          3          0          1             0       1  \n",
              "2             0          4          0          1             1       1  \n",
              "3             0          3          0          1             1       0  \n",
              "4             0          3          0          1             1       0  \n",
              "...         ...        ...        ...        ...           ...     ...  \n",
              "6512          0          3          0          1             0       1  \n",
              "6513          0          2          0          1             0       1  \n",
              "6514          0          3          0          1             0       1  \n",
              "6515          0          7          0          1             0       1  \n",
              "6516          0          2          0          1             0       2  \n",
              "\n",
              "[6517 rows x 12 columns]"
            ]
          },
          "execution_count": 16,
          "metadata": {},
          "output_type": "execute_result"
        }
      ],
      "source": [
        "df.dropna(inplace=True)\n",
        "df"
      ]
    },
    {
      "cell_type": "code",
      "execution_count": 17,
      "metadata": {
        "id": "LhMYw8cVxCSM"
      },
      "outputs": [],
      "source": [
        "X = df[['url_length','total_of@','total_of_www','total_of-','total_of%','total_of/']]\n",
        "y = df['status']"
      ]
    },
    {
      "cell_type": "code",
      "execution_count": 18,
      "metadata": {
        "id": "On9JegJ2xCPm"
      },
      "outputs": [],
      "source": [
        "X_train, X_test, y_train, y_test = train_test_split(X, y, test_size=0.2, random_state=42)"
      ]
    },
    {
      "cell_type": "code",
      "execution_count": 19,
      "metadata": {
        "id": "dmxQWpt-AVaj"
      },
      "outputs": [],
      "source": [
        "scaler = StandardScaler()\n",
        "X_train_scaled = scaler.fit_transform(X_train)\n",
        "X_test_scaled = scaler.transform(X_test)"
      ]
    },
    {
      "cell_type": "code",
      "execution_count": 20,
      "metadata": {
        "colab": {
          "base_uri": "https://localhost:8080/",
          "height": 74
        },
        "id": "1LES1-SUAVUd",
        "outputId": "ac9e81b4-350b-4ba4-b7c9-1a4ce968326e"
      },
      "outputs": [
        {
          "data": {
            "text/html": [
              "<style>#sk-container-id-1 {color: black;background-color: white;}#sk-container-id-1 pre{padding: 0;}#sk-container-id-1 div.sk-toggleable {background-color: white;}#sk-container-id-1 label.sk-toggleable__label {cursor: pointer;display: block;width: 100%;margin-bottom: 0;padding: 0.3em;box-sizing: border-box;text-align: center;}#sk-container-id-1 label.sk-toggleable__label-arrow:before {content: \"▸\";float: left;margin-right: 0.25em;color: #696969;}#sk-container-id-1 label.sk-toggleable__label-arrow:hover:before {color: black;}#sk-container-id-1 div.sk-estimator:hover label.sk-toggleable__label-arrow:before {color: black;}#sk-container-id-1 div.sk-toggleable__content {max-height: 0;max-width: 0;overflow: hidden;text-align: left;background-color: #f0f8ff;}#sk-container-id-1 div.sk-toggleable__content pre {margin: 0.2em;color: black;border-radius: 0.25em;background-color: #f0f8ff;}#sk-container-id-1 input.sk-toggleable__control:checked~div.sk-toggleable__content {max-height: 200px;max-width: 100%;overflow: auto;}#sk-container-id-1 input.sk-toggleable__control:checked~label.sk-toggleable__label-arrow:before {content: \"▾\";}#sk-container-id-1 div.sk-estimator input.sk-toggleable__control:checked~label.sk-toggleable__label {background-color: #d4ebff;}#sk-container-id-1 div.sk-label input.sk-toggleable__control:checked~label.sk-toggleable__label {background-color: #d4ebff;}#sk-container-id-1 input.sk-hidden--visually {border: 0;clip: rect(1px 1px 1px 1px);clip: rect(1px, 1px, 1px, 1px);height: 1px;margin: -1px;overflow: hidden;padding: 0;position: absolute;width: 1px;}#sk-container-id-1 div.sk-estimator {font-family: monospace;background-color: #f0f8ff;border: 1px dotted black;border-radius: 0.25em;box-sizing: border-box;margin-bottom: 0.5em;}#sk-container-id-1 div.sk-estimator:hover {background-color: #d4ebff;}#sk-container-id-1 div.sk-parallel-item::after {content: \"\";width: 100%;border-bottom: 1px solid gray;flex-grow: 1;}#sk-container-id-1 div.sk-label:hover label.sk-toggleable__label {background-color: #d4ebff;}#sk-container-id-1 div.sk-serial::before {content: \"\";position: absolute;border-left: 1px solid gray;box-sizing: border-box;top: 0;bottom: 0;left: 50%;z-index: 0;}#sk-container-id-1 div.sk-serial {display: flex;flex-direction: column;align-items: center;background-color: white;padding-right: 0.2em;padding-left: 0.2em;position: relative;}#sk-container-id-1 div.sk-item {position: relative;z-index: 1;}#sk-container-id-1 div.sk-parallel {display: flex;align-items: stretch;justify-content: center;background-color: white;position: relative;}#sk-container-id-1 div.sk-item::before, #sk-container-id-1 div.sk-parallel-item::before {content: \"\";position: absolute;border-left: 1px solid gray;box-sizing: border-box;top: 0;bottom: 0;left: 50%;z-index: -1;}#sk-container-id-1 div.sk-parallel-item {display: flex;flex-direction: column;z-index: 1;position: relative;background-color: white;}#sk-container-id-1 div.sk-parallel-item:first-child::after {align-self: flex-end;width: 50%;}#sk-container-id-1 div.sk-parallel-item:last-child::after {align-self: flex-start;width: 50%;}#sk-container-id-1 div.sk-parallel-item:only-child::after {width: 0;}#sk-container-id-1 div.sk-dashed-wrapped {border: 1px dashed gray;margin: 0 0.4em 0.5em 0.4em;box-sizing: border-box;padding-bottom: 0.4em;background-color: white;}#sk-container-id-1 div.sk-label label {font-family: monospace;font-weight: bold;display: inline-block;line-height: 1.2em;}#sk-container-id-1 div.sk-label-container {text-align: center;}#sk-container-id-1 div.sk-container {/* jupyter's `normalize.less` sets `[hidden] { display: none; }` but bootstrap.min.css set `[hidden] { display: none !important; }` so we also need the `!important` here to be able to override the default hidden behavior on the sphinx rendered scikit-learn.org. See: https://github.com/scikit-learn/scikit-learn/issues/21755 */display: inline-block !important;position: relative;}#sk-container-id-1 div.sk-text-repr-fallback {display: none;}</style><div id=\"sk-container-id-1\" class=\"sk-top-container\"><div class=\"sk-text-repr-fallback\"><pre>LogisticRegression()</pre><b>In a Jupyter environment, please rerun this cell to show the HTML representation or trust the notebook. <br />On GitHub, the HTML representation is unable to render, please try loading this page with nbviewer.org.</b></div><div class=\"sk-container\" hidden><div class=\"sk-item\"><div class=\"sk-estimator sk-toggleable\"><input class=\"sk-toggleable__control sk-hidden--visually\" id=\"sk-estimator-id-1\" type=\"checkbox\" checked><label for=\"sk-estimator-id-1\" class=\"sk-toggleable__label sk-toggleable__label-arrow\">LogisticRegression</label><div class=\"sk-toggleable__content\"><pre>LogisticRegression()</pre></div></div></div></div></div>"
            ],
            "text/plain": [
              "LogisticRegression()"
            ]
          },
          "execution_count": 20,
          "metadata": {},
          "output_type": "execute_result"
        }
      ],
      "source": [
        "# Initialize and train the logistic regression model\n",
        "log_reg = LogisticRegression()\n",
        "log_reg.fit(X_train_scaled, y_train)"
      ]
    },
    {
      "cell_type": "code",
      "execution_count": 21,
      "metadata": {
        "id": "IEjOJCgW80TG"
      },
      "outputs": [],
      "source": [
        "# Make predictions on the testing set\n",
        "y_pred = log_reg.predict(X_test_scaled)"
      ]
    },
    {
      "cell_type": "code",
      "execution_count": 22,
      "metadata": {
        "colab": {
          "base_uri": "https://localhost:8080/"
        },
        "id": "g-zvj7xYcjnl",
        "outputId": "fb6244e5-561c-4d53-b2c3-0bbddd2b79bd"
      },
      "outputs": [
        {
          "name": "stdout",
          "output_type": "stream",
          "text": [
            "Shape of X_test_scaled: (1304, 6)\n",
            "Data type of X_test_scaled: <class 'numpy.ndarray'>\n",
            "Coefficients of the logistic regression model:\n",
            "[[-0.69223422 -0.49196142  0.70688443  0.39271967  0.15689808  0.17428474]\n",
            " [ 1.03562943  0.47993224 -0.34278167 -0.55851645 -0.12248102  0.47518645]\n",
            " [-0.34339522  0.01202918 -0.36410277  0.16579678 -0.03441706 -0.64947119]]\n",
            "Sample predictions and true labels:\n",
            "Predicted: 1 \tActual: 0\n",
            "Predicted: 1 \tActual: 0\n",
            "Predicted: 0 \tActual: 0\n",
            "Predicted: 1 \tActual: 1\n",
            "Predicted: 1 \tActual: 1\n"
          ]
        }
      ],
      "source": [
        "# 1. Check the shape and data type of the input data (X_test_scaled)\n",
        "print(\"Shape of X_test_scaled:\", X_test_scaled.shape)\n",
        "print(\"Data type of X_test_scaled:\", type(X_test_scaled))\n",
        "\n",
        "# 2. Verify that the model (log_reg) is trained by checking its attributes\n",
        "# For example, you can check if the coefficients are available\n",
        "if hasattr(log_reg, 'coef_'):\n",
        "    print(\"Coefficients of the logistic regression model:\")\n",
        "    print(log_reg.coef_)\n",
        "else:\n",
        "    print(\"The logistic regression model is not trained.\")\n",
        "\n",
        "# 3. Print some sample predictions and compare them with the true labels (y_test)\n",
        "print(\"Sample predictions and true labels:\")\n",
        "for i in range(5):  # Print predictions for the first 5 samples\n",
        "    print(\"Predicted:\", y_pred[i], \"\\tActual:\", y_test.iloc[i])\n",
        "\n",
        "\n"
      ]
    },
    {
      "cell_type": "code",
      "execution_count": 23,
      "metadata": {
        "colab": {
          "base_uri": "https://localhost:8080/"
        },
        "id": "dRJfsG_g80QG",
        "outputId": "958d69ca-b546-465d-a7ea-0fdeea4ee472"
      },
      "outputs": [
        {
          "name": "stdout",
          "output_type": "stream",
          "text": [
            "Accuracy: 0.7661042944785276\n"
          ]
        }
      ],
      "source": [
        "# Evaluate model performance\n",
        "accuracy = accuracy_score(y_test, y_pred)\n",
        "print(\"Accuracy:\", accuracy)"
      ]
    },
    {
      "cell_type": "code",
      "execution_count": 24,
      "metadata": {
        "colab": {
          "base_uri": "https://localhost:8080/"
        },
        "id": "N-FCeuSa80NR",
        "outputId": "73847306-3321-4bc0-816e-32bd488e61a8"
      },
      "outputs": [
        {
          "name": "stdout",
          "output_type": "stream",
          "text": [
            "Classification Report:\n",
            "              precision    recall  f1-score   support\n",
            "\n",
            "           0       0.78      0.74      0.76       650\n",
            "           1       0.75      0.79      0.77       654\n",
            "\n",
            "    accuracy                           0.77      1304\n",
            "   macro avg       0.77      0.77      0.77      1304\n",
            "weighted avg       0.77      0.77      0.77      1304\n",
            "\n"
          ]
        }
      ],
      "source": [
        "# Assuming y_test contains true labels and y_pred contains predicted labels\n",
        "print(\"Classification Report:\")\n",
        "print(classification_report(y_test, y_pred))\n"
      ]
    },
    {
      "cell_type": "code",
      "execution_count": 25,
      "metadata": {
        "colab": {
          "base_uri": "https://localhost:8080/",
          "height": 487
        },
        "id": "ggAP0EPEC0Fe",
        "outputId": "0d5b2f2a-f8b4-411b-def2-a131c7ebd10a"
      },
      "outputs": [
        {
          "data": {
            "image/png": "[encoded data removed]",
            "text/plain": [
              "<Figure size 1000x500 with 1 Axes>"
            ]
          },
          "metadata": {},
          "output_type": "display_data"
        }
      ],
      "source": [
        "\n",
        "\n",
        "# Assuming y_test contains true labels and y_pred contains predicted labels\n",
        "report = classification_report(y_test, y_pred, output_dict=True)\n",
        "\n",
        "# Convert the report dictionary into a DataFrame\n",
        "df_report = pd.DataFrame(report).transpose()\n",
        "\n",
        "# Exclude the 'accuracy' row\n",
        "df_report = df_report.drop('accuracy')\n",
        "\n",
        "# Plotting\n",
        "plt.figure(figsize=(10, 5))\n",
        "sns.barplot(data=df_report[['precision', 'recall', 'f1-score']], palette='muted')\n",
        "plt.xlabel('Metric')\n",
        "plt.ylabel('Score')\n",
        "plt.title('Classification Report')\n",
        "plt.show()\n"
      ]
    },
    {
      "cell_type": "code",
      "execution_count": 27,
      "metadata": {
        "id": "WrRj8jl-Tuxa"
      },
      "outputs": [],
      "source": [
        "#save the model to a file using pickle\n",
        "with open('log_reg.pkl','wb') as f:\n",
        "  pickle.dump(log_reg, f)"
      ]
    },
    {
      "cell_type": "code",
      "execution_count": null,
      "metadata": {},
      "outputs": [],
      "source": []
    },
    {
      "cell_type": "code",
      "execution_count": null,
      "metadata": {},
      "outputs": [],
      "source": []
    }
  ],
  "metadata": {
    "colab": {
      "provenance": []
    },
    "kernelspec": {
      "display_name": "Python 3",
      "name": "python3"
    },
    "language_info": {
      "name": "python"
    }
  },
  "nbformat": 4,
  "nbformat_minor": 0
}
